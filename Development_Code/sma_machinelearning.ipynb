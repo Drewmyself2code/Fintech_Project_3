{
 "cells": [
  {
   "cell_type": "code",
   "execution_count": null,
   "metadata": {},
   "outputs": [],
   "source": [
    "# Imports of Pandas and related packages\n",
    "import pandas as pd\n",
    "import numpy as np\n",
    "%matplotlib inline"
   ]
  },
  {
   "cell_type": "code",
   "execution_count": null,
   "metadata": {},
   "outputs": [],
   "source": [
    "# Imports of plotting and data visualization libraries\n",
    "import hvplot.pandas\n",
    "import matplotlib.pyplot as plt"
   ]
  },
  {
   "cell_type": "code",
   "execution_count": null,
   "metadata": {},
   "outputs": [],
   "source": [
    "bitcoin_df = pd.read_pickle('bitcoin_df.pkl')\n",
    "bitcoin_sma_strategy = pd.read_pickle('btc_sma.pkl')\n",
    "bitcoin_macd_strategy = pd.read_pickle('btc_macd.pkl')\n",
    "\n",
    "ethereum_df = pd.read_pickle('ethereum_df.pkl')\n",
    "ethereum_sma_strategy = pd.read_pickle('eth_sma.pkl')\n",
    "ethereum_macd_strategy = pd.read_pickle('eth_macd.pkl')\n",
    "\n",
    "solana_df = pd.read_pickle('solana_df.pkl')\n",
    "solana_sma_strategy = pd.read_pickle('sol_sma.pkl')\n",
    "solana_macd_strategy = pd.read_pickle('sol_macd.pkl')"
   ]
  }
 ],
 "metadata": {
  "kernelspec": {
   "display_name": "Python 3.9.13 64-bit (windows store)",
   "language": "python",
   "name": "python3"
  },
  "language_info": {
   "name": "python",
   "version": "3.9.13"
  },
  "orig_nbformat": 4,
  "vscode": {
   "interpreter": {
    "hash": "945fb14617c7b0d6dfcba1b990c103f381ff651cca4d067c5bf666628de6eb9a"
   }
  }
 },
 "nbformat": 4,
 "nbformat_minor": 2
}
